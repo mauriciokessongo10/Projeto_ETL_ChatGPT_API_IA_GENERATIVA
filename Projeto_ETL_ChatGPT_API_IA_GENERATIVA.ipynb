{
  "nbformat": 4,
  "nbformat_minor": 0,
  "metadata": {
    "colab": {
      "provenance": [],
      "authorship_tag": "ABX9TyMWQQlIuoae5EH+QWMduahB",
      "include_colab_link": true
    },
    "kernelspec": {
      "name": "python3",
      "display_name": "Python 3"
    },
    "language_info": {
      "name": "python"
    }
  },
  "cells": [
    {
      "cell_type": "markdown",
      "metadata": {
        "id": "view-in-github",
        "colab_type": "text"
      },
      "source": [
        "<a href=\"https://colab.research.google.com/github/mauriciokessongo10/Projeto_ETL_ChatGPT_API_IA_GENERATIVA/blob/main/Projeto_ETL_ChatGPT_API_IA_GENERATIVA.ipynb\" target=\"_parent\"><img src=\"https://colab.research.google.com/assets/colab-badge.svg\" alt=\"Open In Colab\"/></a>"
      ]
    },
    {
      "cell_type": "markdown",
      "source": [
        "#Instruções\n",
        "\n",
        "1. Para rodar o código contido nesse arquivo .pynb você precisará incluir o"
      ],
      "metadata": {
        "id": "-fSnJ1wCgwtW"
      }
    },
    {
      "cell_type": "markdown",
      "source": [
        "# Extract"
      ],
      "metadata": {
        "id": "woJjL_oZGLf8"
      }
    },
    {
      "cell_type": "code",
      "execution_count": null,
      "metadata": {
        "id": "z06EF28H8myo"
      },
      "outputs": [],
      "source": [
        "import openai\n",
        "import pandas as pd\n",
        "import random\n",
        "import shutil\n",
        "import re\n",
        "!pip install openai\n",
        "\n",
        "df = pd.read_excel('/genius_hip_hop_lyrics.xlsx')\n",
        "\n",
        "\n",
        "#print(df.head())"
      ]
    },
    {
      "cell_type": "code",
      "source": [
        "df"
      ],
      "metadata": {
        "id": "l670XyQIHpi0"
      },
      "execution_count": null,
      "outputs": []
    },
    {
      "cell_type": "markdown",
      "source": [
        "#Transform\n",
        "\n"
      ],
      "metadata": {
        "id": "4zGpVx08UHKG"
      }
    },
    {
      "cell_type": "code",
      "source": [
        "# Lista de nomes de colunas que você deseja excluir\n",
        "colunas_para_excluir = ['candidate', 'sentiment', 'theme', 'album_release_date', 'url']  # Substitua pelos nomes das colunas que deseja excluir\n",
        "# Use o método drop para excluir as colunas\n",
        "df = df.drop(columns=colunas_para_excluir)\n",
        "\n",
        "# Agora você tem um novo arquivo Excel sem as colunas especificadas.\n",
        "df.to_excel('/genius_hip_hop_lyrics.xlsx', index=False)"
      ],
      "metadata": {
        "id": "Y4UD6vZAeeck"
      },
      "execution_count": 167,
      "outputs": []
    },
    {
      "cell_type": "code",
      "source": [
        "df #imprimindo para ver a eliminação das colunas 'candidate', 'sentiment', 'theme', 'album_release_date', 'url'"
      ],
      "metadata": {
        "id": "bB3RNG0UWAV6"
      },
      "execution_count": null,
      "outputs": []
    },
    {
      "cell_type": "code",
      "source": [
        "nov = pd.read_excel('/novo.xlsx')#verificar se o arquivo novo.xlsx está realmente vazio\n",
        "nov\n",
        "\n"
      ],
      "metadata": {
        "colab": {
          "base_uri": "https://localhost:8080/",
          "height": 53
        },
        "id": "3UKJhe23zo0C",
        "outputId": "b8986a40-c2e9-4a8f-abc0-9aafe56242e9"
      },
      "execution_count": 155,
      "outputs": [
        {
          "output_type": "execute_result",
          "data": {
            "text/plain": [
              "Empty DataFrame\n",
              "Columns: []\n",
              "Index: []"
            ],
            "text/html": [
              "\n",
              "  <div id=\"df-3eb99ff9-a5c7-4231-9f47-f872b656ea0a\" class=\"colab-df-container\">\n",
              "    <div>\n",
              "<style scoped>\n",
              "    .dataframe tbody tr th:only-of-type {\n",
              "        vertical-align: middle;\n",
              "    }\n",
              "\n",
              "    .dataframe tbody tr th {\n",
              "        vertical-align: top;\n",
              "    }\n",
              "\n",
              "    .dataframe thead th {\n",
              "        text-align: right;\n",
              "    }\n",
              "</style>\n",
              "<table border=\"1\" class=\"dataframe\">\n",
              "  <thead>\n",
              "    <tr style=\"text-align: right;\">\n",
              "      <th></th>\n",
              "    </tr>\n",
              "  </thead>\n",
              "  <tbody>\n",
              "  </tbody>\n",
              "</table>\n",
              "</div>\n",
              "    <div class=\"colab-df-buttons\">\n",
              "\n",
              "  <div class=\"colab-df-container\">\n",
              "    <button class=\"colab-df-convert\" onclick=\"convertToInteractive('df-3eb99ff9-a5c7-4231-9f47-f872b656ea0a')\"\n",
              "            title=\"Convert this dataframe to an interactive table.\"\n",
              "            style=\"display:none;\">\n",
              "\n",
              "  <svg xmlns=\"http://www.w3.org/2000/svg\" height=\"24px\" viewBox=\"0 -960 960 960\">\n",
              "    <path d=\"M120-120v-720h720v720H120Zm60-500h600v-160H180v160Zm220 220h160v-160H400v160Zm0 220h160v-160H400v160ZM180-400h160v-160H180v160Zm440 0h160v-160H620v160ZM180-180h160v-160H180v160Zm440 0h160v-160H620v160Z\"/>\n",
              "  </svg>\n",
              "    </button>\n",
              "\n",
              "  <style>\n",
              "    .colab-df-container {\n",
              "      display:flex;\n",
              "      gap: 12px;\n",
              "    }\n",
              "\n",
              "    .colab-df-convert {\n",
              "      background-color: #E8F0FE;\n",
              "      border: none;\n",
              "      border-radius: 50%;\n",
              "      cursor: pointer;\n",
              "      display: none;\n",
              "      fill: #1967D2;\n",
              "      height: 32px;\n",
              "      padding: 0 0 0 0;\n",
              "      width: 32px;\n",
              "    }\n",
              "\n",
              "    .colab-df-convert:hover {\n",
              "      background-color: #E2EBFA;\n",
              "      box-shadow: 0px 1px 2px rgba(60, 64, 67, 0.3), 0px 1px 3px 1px rgba(60, 64, 67, 0.15);\n",
              "      fill: #174EA6;\n",
              "    }\n",
              "\n",
              "    .colab-df-buttons div {\n",
              "      margin-bottom: 4px;\n",
              "    }\n",
              "\n",
              "    [theme=dark] .colab-df-convert {\n",
              "      background-color: #3B4455;\n",
              "      fill: #D2E3FC;\n",
              "    }\n",
              "\n",
              "    [theme=dark] .colab-df-convert:hover {\n",
              "      background-color: #434B5C;\n",
              "      box-shadow: 0px 1px 3px 1px rgba(0, 0, 0, 0.15);\n",
              "      filter: drop-shadow(0px 1px 2px rgba(0, 0, 0, 0.3));\n",
              "      fill: #FFFFFF;\n",
              "    }\n",
              "  </style>\n",
              "\n",
              "    <script>\n",
              "      const buttonEl =\n",
              "        document.querySelector('#df-3eb99ff9-a5c7-4231-9f47-f872b656ea0a button.colab-df-convert');\n",
              "      buttonEl.style.display =\n",
              "        google.colab.kernel.accessAllowed ? 'block' : 'none';\n",
              "\n",
              "      async function convertToInteractive(key) {\n",
              "        const element = document.querySelector('#df-3eb99ff9-a5c7-4231-9f47-f872b656ea0a');\n",
              "        const dataTable =\n",
              "          await google.colab.kernel.invokeFunction('convertToInteractive',\n",
              "                                                    [key], {});\n",
              "        if (!dataTable) return;\n",
              "\n",
              "        const docLinkHtml = 'Like what you see? Visit the ' +\n",
              "          '<a target=\"_blank\" href=https://colab.research.google.com/notebooks/data_table.ipynb>data table notebook</a>'\n",
              "          + ' to learn more about interactive tables.';\n",
              "        element.innerHTML = '';\n",
              "        dataTable['output_type'] = 'display_data';\n",
              "        await google.colab.output.renderOutput(dataTable, element);\n",
              "        const docLink = document.createElement('div');\n",
              "        docLink.innerHTML = docLinkHtml;\n",
              "        element.appendChild(docLink);\n",
              "      }\n",
              "    </script>\n",
              "  </div>\n",
              "\n",
              "    </div>\n",
              "  </div>\n"
            ]
          },
          "metadata": {},
          "execution_count": 155
        }
      ]
    },
    {
      "cell_type": "code",
      "source": [
        "teste = pd.read_excel('/genius_hip_hop_lyrics.xlsx') #verificar se o arquivo original recebeu as alterações feitas\n",
        "teste"
      ],
      "metadata": {
        "id": "IM-bAtw7tE3w"
      },
      "execution_count": null,
      "outputs": []
    },
    {
      "cell_type": "code",
      "source": [
        "\n",
        "# Função para realizar a limpeza de texto\n",
        "\n",
        "def limpar_texto(texto):\n",
        "    # Converter o texto para minúsculas\n",
        "    texto = texto.lower()\n",
        "\n",
        "    # Remover caracteres especiais usando expressões regulares\n",
        "    texto = re.sub(r'[^a-zA-Z0-9\\s]', '', texto)\n",
        "\n",
        "    return texto\n",
        "\n",
        "# Aplicar a limpeza de texto às colunas relevantes do DataFrame\n",
        "colunas_para_limpar = ['line']  # Substitua pelo nome da coluna com as letras de música\n",
        "for coluna in colunas_para_limpar:\n",
        "    df[coluna] = df[coluna].apply(limpar_texto)\n",
        "\n",
        "# Salvar o DataFrame limpo em um novo arquivo Excel\n",
        "df.to_excel('/genius_hip_hop_lyrics.xlsx', index=False)"
      ],
      "metadata": {
        "id": "1Oo7bkQVdHjD"
      },
      "execution_count": 168,
      "outputs": []
    },
    {
      "cell_type": "code",
      "source": [
        "teste = pd.read_excel('/genius_hip_hop_lyrics.xlsx')\n",
        "teste"
      ],
      "metadata": {
        "id": "ol5JvFclvaST"
      },
      "execution_count": null,
      "outputs": []
    },
    {
      "cell_type": "code",
      "source": [
        "df"
      ],
      "metadata": {
        "id": "tLmUfTmtxHD2"
      },
      "execution_count": null,
      "outputs": []
    },
    {
      "cell_type": "code",
      "source": [
        "nov = pd.read_excel('/novo.xlsx') #ainda vazia\n",
        "nov"
      ],
      "metadata": {
        "colab": {
          "base_uri": "https://localhost:8080/",
          "height": 53
        },
        "id": "Sw0Up8jF0tJu",
        "outputId": "7ea02581-9b92-4c51-ee66-bcbb36a0aa06"
      },
      "execution_count": 160,
      "outputs": [
        {
          "output_type": "execute_result",
          "data": {
            "text/plain": [
              "Empty DataFrame\n",
              "Columns: []\n",
              "Index: []"
            ],
            "text/html": [
              "\n",
              "  <div id=\"df-b5e1761e-5918-4b25-8c4d-a7435f309bb6\" class=\"colab-df-container\">\n",
              "    <div>\n",
              "<style scoped>\n",
              "    .dataframe tbody tr th:only-of-type {\n",
              "        vertical-align: middle;\n",
              "    }\n",
              "\n",
              "    .dataframe tbody tr th {\n",
              "        vertical-align: top;\n",
              "    }\n",
              "\n",
              "    .dataframe thead th {\n",
              "        text-align: right;\n",
              "    }\n",
              "</style>\n",
              "<table border=\"1\" class=\"dataframe\">\n",
              "  <thead>\n",
              "    <tr style=\"text-align: right;\">\n",
              "      <th></th>\n",
              "    </tr>\n",
              "  </thead>\n",
              "  <tbody>\n",
              "  </tbody>\n",
              "</table>\n",
              "</div>\n",
              "    <div class=\"colab-df-buttons\">\n",
              "\n",
              "  <div class=\"colab-df-container\">\n",
              "    <button class=\"colab-df-convert\" onclick=\"convertToInteractive('df-b5e1761e-5918-4b25-8c4d-a7435f309bb6')\"\n",
              "            title=\"Convert this dataframe to an interactive table.\"\n",
              "            style=\"display:none;\">\n",
              "\n",
              "  <svg xmlns=\"http://www.w3.org/2000/svg\" height=\"24px\" viewBox=\"0 -960 960 960\">\n",
              "    <path d=\"M120-120v-720h720v720H120Zm60-500h600v-160H180v160Zm220 220h160v-160H400v160Zm0 220h160v-160H400v160ZM180-400h160v-160H180v160Zm440 0h160v-160H620v160ZM180-180h160v-160H180v160Zm440 0h160v-160H620v160Z\"/>\n",
              "  </svg>\n",
              "    </button>\n",
              "\n",
              "  <style>\n",
              "    .colab-df-container {\n",
              "      display:flex;\n",
              "      gap: 12px;\n",
              "    }\n",
              "\n",
              "    .colab-df-convert {\n",
              "      background-color: #E8F0FE;\n",
              "      border: none;\n",
              "      border-radius: 50%;\n",
              "      cursor: pointer;\n",
              "      display: none;\n",
              "      fill: #1967D2;\n",
              "      height: 32px;\n",
              "      padding: 0 0 0 0;\n",
              "      width: 32px;\n",
              "    }\n",
              "\n",
              "    .colab-df-convert:hover {\n",
              "      background-color: #E2EBFA;\n",
              "      box-shadow: 0px 1px 2px rgba(60, 64, 67, 0.3), 0px 1px 3px 1px rgba(60, 64, 67, 0.15);\n",
              "      fill: #174EA6;\n",
              "    }\n",
              "\n",
              "    .colab-df-buttons div {\n",
              "      margin-bottom: 4px;\n",
              "    }\n",
              "\n",
              "    [theme=dark] .colab-df-convert {\n",
              "      background-color: #3B4455;\n",
              "      fill: #D2E3FC;\n",
              "    }\n",
              "\n",
              "    [theme=dark] .colab-df-convert:hover {\n",
              "      background-color: #434B5C;\n",
              "      box-shadow: 0px 1px 3px 1px rgba(0, 0, 0, 0.15);\n",
              "      filter: drop-shadow(0px 1px 2px rgba(0, 0, 0, 0.3));\n",
              "      fill: #FFFFFF;\n",
              "    }\n",
              "  </style>\n",
              "\n",
              "    <script>\n",
              "      const buttonEl =\n",
              "        document.querySelector('#df-b5e1761e-5918-4b25-8c4d-a7435f309bb6 button.colab-df-convert');\n",
              "      buttonEl.style.display =\n",
              "        google.colab.kernel.accessAllowed ? 'block' : 'none';\n",
              "\n",
              "      async function convertToInteractive(key) {\n",
              "        const element = document.querySelector('#df-b5e1761e-5918-4b25-8c4d-a7435f309bb6');\n",
              "        const dataTable =\n",
              "          await google.colab.kernel.invokeFunction('convertToInteractive',\n",
              "                                                    [key], {});\n",
              "        if (!dataTable) return;\n",
              "\n",
              "        const docLinkHtml = 'Like what you see? Visit the ' +\n",
              "          '<a target=\"_blank\" href=https://colab.research.google.com/notebooks/data_table.ipynb>data table notebook</a>'\n",
              "          + ' to learn more about interactive tables.';\n",
              "        element.innerHTML = '';\n",
              "        dataTable['output_type'] = 'display_data';\n",
              "        await google.colab.output.renderOutput(dataTable, element);\n",
              "        const docLink = document.createElement('div');\n",
              "        docLink.innerHTML = docLinkHtml;\n",
              "        element.appendChild(docLink);\n",
              "      }\n",
              "    </script>\n",
              "  </div>\n",
              "\n",
              "    </div>\n",
              "  </div>\n"
            ]
          },
          "metadata": {},
          "execution_count": 160
        }
      ]
    },
    {
      "cell_type": "code",
      "source": [
        "\n",
        "#Usando a API  do chat GPT para criar excertos de letras de músicas\n",
        "\n",
        "# Configuração da API GPT-3 (substitua com sua chave de API)\n",
        "api_key = \"insira_sua_chave_da_api_do_chat_GPT\" #Criar nadocumentação do Chat GPT\n",
        "openai.api_key = api_key\n",
        "\n",
        "# Lista de palavras-chave ou temas para nomes de músicas\n",
        "temas_musicais = ['amor', 'vida', 'sonho', 'dança', 'paixão', 'espiritualidade']\n",
        "\n",
        "\n",
        "# Lista de artistas para os quais você deseja gerar letras\n",
        "artistas_sem_letras = [379, 380, 381, 382, 383] # Já carreguei uma planilha com 378 linhas de registros, pensei em adicionar 5 novos registros que receberão o preenchimento do chat gpt\n",
        "\n",
        "\n",
        "colunas = ['id', 'song', 'artist', 'line']#Criando novo dataFrame para receber os dados gerados pelo chat gpt\n",
        "df_meio = pd.DataFrame(columns=colunas)\n",
        "\n",
        "for artista in artistas_sem_letras:\n",
        "\n",
        "    # Escolha aleatoriamente um tema musical para a música\n",
        "    tema_musical = random.choice(temas_musicais)\n",
        "\n",
        "    # Use a API GPT-3 para gerar um nome de música\n",
        "    resposta_nome_musica = openai.Completion.create(\n",
        "        engine=\"text-davinci-002\",\n",
        "        prompt=f\"Gere um nome de música para {artista} com o tema '{tema_musical}':\",\n",
        "        max_tokens=10  # Ajuste o número de tokens conforme necessário\n",
        "    )\n",
        "    nome_musica = resposta_nome_musica.choices[0].text.strip()\n",
        "\n",
        "    # Use a API GPT-3 para gerar um nome de artista\n",
        "    resposta_nome_artista = openai.Completion.create(\n",
        "        engine=\"text-davinci-002\",\n",
        "        prompt=f\"Gere um nome de artista para a música '{nome_musica}':\",\n",
        "        max_tokens=5  # Ajuste o número de tokens conforme necessário\n",
        "    )\n",
        "    nome_artista = resposta_nome_artista.choices[0].text.strip()\n",
        "\n",
        "    # Use a API GPT-3 para gerar uma letra curta\n",
        "    resposta_letra = openai.Completion.create(\n",
        "        engine=\"text-davinci-002\",\n",
        "        prompt=f\"Escreva uma letra curta para a música '{nome_musica}' de {nome_artista}:\",\n",
        "        max_tokens=30  # Defina o número máximo de tokens para uma letra curta\n",
        "    )\n",
        "    letra = resposta_letra.choices[0].text.strip()\n",
        "\n",
        "    # Adicione uma nova linha ao DataFrame com os valores correspondentes\n",
        "    # Adicione os novos registros ao DataFrame intermediário\n",
        "    df_temp = pd.DataFrame({'id': [artista], 'song': [nome_musica], 'artist': [nome_artista], 'line': [letra]})\n",
        "    df_meio = pd.concat([df_meio, df_temp], ignore_index=True)\n"
      ],
      "metadata": {
        "id": "9d1OMcqm7yT5"
      },
      "execution_count": 169,
      "outputs": []
    },
    {
      "cell_type": "markdown",
      "source": [
        "# Load"
      ],
      "metadata": {
        "id": "du8F57IaGaTv"
      }
    },
    {
      "cell_type": "code",
      "source": [
        "\n",
        "# Combine os novos registros com a planilha original\n",
        "df_concatenado = pd.concat([df, df_meio], axis = 0)#ignore_index=False\n",
        "\n",
        "# Salve a planilha atualizada de volta no arquivo Excel\n",
        "df_meio.to_excel('/novo.xlsx', index=False)\n",
        "#df.to_excel('/genius_hip_hop_lyrics.xlsx', index=False)\n",
        "df_concatenado.to_excel('/genius_hip_hop_lyrics.xlsx', index=False)\n",
        "\n",
        "\n",
        "\n",
        "# Nome do arquivo Excel no diretório do Jupyter Notebook\n",
        "nome_arquivo = '/genius_hip_hop_lyrics.xlsx'\n",
        "\n",
        "# Diretório de destino (pasta atual do Jupyter Notebook)\n",
        "destino = '/'\n",
        "\n",
        "# Carregar o arquivo Excel existente\n",
        "df_concatenado = pd.read_excel(nome_arquivo)\n",
        "\n",
        "# Caminho completo do novo arquivo Excel no diretório de destino\n",
        "novo_arquivo = destino + 'NOVO_ARQUIVO_SAIDA_FINAL.xlsx'\n",
        "\n",
        "# Salvar o DataFrame em um novo arquivo Excel\n",
        "df_concatenado.to_excel(novo_arquivo, index=False)\n",
        "\n",
        "print(f'O arquivo foi criado e salvo em \"{novo_arquivo}\" com sucesso!')\n"
      ],
      "metadata": {
        "colab": {
          "base_uri": "https://localhost:8080/"
        },
        "id": "htMr74yzTVAr",
        "outputId": "df016c0f-ffec-4e30-af0b-3d707ecab17c"
      },
      "execution_count": 182,
      "outputs": [
        {
          "output_type": "stream",
          "name": "stdout",
          "text": [
            "O arquivo foi criado e salvo em \"/NOVO_ARQUIVO_SAIDA_FINAL.xlsx\" com sucesso!\n"
          ]
        }
      ]
    },
    {
      "cell_type": "code",
      "source": [
        "df_meio"
      ],
      "metadata": {
        "id": "qQDjFUC45WHE"
      },
      "execution_count": null,
      "outputs": []
    },
    {
      "cell_type": "code",
      "source": [
        "df_concatenado"
      ],
      "metadata": {
        "id": "grih5Y0PBlc0"
      },
      "execution_count": null,
      "outputs": []
    },
    {
      "cell_type": "code",
      "source": [
        "df"
      ],
      "metadata": {
        "id": "TxuWd9Oyf7kz"
      },
      "execution_count": null,
      "outputs": []
    },
    {
      "cell_type": "code",
      "source": [
        "teste = pd.read_excel('/genius_hip_hop_lyrics.xlsx')\n",
        "teste"
      ],
      "metadata": {
        "id": "mEYmTCeWDEyn"
      },
      "execution_count": null,
      "outputs": []
    },
    {
      "cell_type": "code",
      "source": [
        "d = pd.read_excel('/novo.xlsx')\n",
        "\n",
        "d"
      ],
      "metadata": {
        "id": "yuXyJJH7qzBl"
      },
      "execution_count": null,
      "outputs": []
    }
  ]
}